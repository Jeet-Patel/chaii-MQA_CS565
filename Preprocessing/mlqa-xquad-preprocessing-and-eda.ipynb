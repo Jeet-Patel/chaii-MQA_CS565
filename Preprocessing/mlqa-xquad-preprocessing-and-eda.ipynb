{
 "cells": [
  {
   "cell_type": "markdown",
   "id": "383b87ee",
   "metadata": {
    "papermill": {
     "duration": 0.015378,
     "end_time": "2021-11-28T10:51:57.152588",
     "exception": false,
     "start_time": "2021-11-28T10:51:57.137210",
     "status": "completed"
    },
    "tags": []
   },
   "source": [
    "<h2>chaii QA - 5 Fold XLMRoberta Training + Inference in Torch w/o Trainer API</h2>\n",
    "    \n",
    "<h3><span \"style: color=#444\">Introduction</span></h3>\n",
    "\n",
    "This kernel preprocesses MLQA, XQUAD Hindi Corpus. For more information check the finetuning notebook.\n",
    "\n",
    "This is a three part kernel,\n",
    "\n",
    "- [External Data - MLQA, XQUAD Preprocessing](https://www.kaggle.com/rhtsingh/external-data-mlqa-xquad-preprocessing) which preprocesses the Hindi Corpus of MLQA and XQUAD. I have used these data for training.\n",
    "\n",
    "- [chaii QA - 5 Fold XLMRoberta Torch | FIT](https://www.kaggle.com/rhtsingh/chaii-qa-5-fold-xlmroberta-torch-fit/edit) This kernel showcases Finetuning (FIT) on competition + external data combining different strategies.\n",
    "\n",
    "- [chaii QA - 5 Fold XLMRoberta Torch | Infer](https://www.kaggle.com/rhtsingh/chaii-qa-5-fold-xlmroberta-torch-infer) The Inference kernel where we ensemble our 5 Fold XLMRoberta Models and do the submission."
   ]
  },
  {
   "cell_type": "markdown",
   "id": "8bded056",
   "metadata": {
    "papermill": {
     "duration": 0.014011,
     "end_time": "2021-11-28T10:51:57.182855",
     "exception": false,
     "start_time": "2021-11-28T10:51:57.168844",
     "status": "completed"
    },
    "tags": []
   },
   "source": [
    "## MLQA"
   ]
  },
  {
   "cell_type": "code",
   "execution_count": 1,
   "id": "a32ca585",
   "metadata": {
    "_cell_guid": "b1076dfc-b9ad-4769-8c92-a6c4dae69d19",
    "_uuid": "8f2839f25d086af736a60e9eeb907d3b93b6e0e5",
    "execution": {
     "iopub.execute_input": "2021-11-28T10:51:57.221387Z",
     "iopub.status.busy": "2021-11-28T10:51:57.220764Z",
     "iopub.status.idle": "2021-11-28T10:51:59.195957Z",
     "shell.execute_reply": "2021-11-28T10:51:59.195301Z",
     "shell.execute_reply.started": "2021-08-16T04:17:28.101415Z"
    },
    "papermill": {
     "duration": 1.999041,
     "end_time": "2021-11-28T10:51:59.196133",
     "exception": false,
     "start_time": "2021-11-28T10:51:57.197092",
     "status": "completed"
    },
    "tags": []
   },
   "outputs": [
    {
     "name": "stdout",
     "output_type": "stream",
     "text": [
      "--2021-11-28 10:51:57--  https://dl.fbaipublicfiles.com/MLQA/MLQA_V1.zip\r\n",
      "Resolving dl.fbaipublicfiles.com (dl.fbaipublicfiles.com)... 172.67.9.4, 104.22.75.142, 104.22.74.142, ...\r\n",
      "Connecting to dl.fbaipublicfiles.com (dl.fbaipublicfiles.com)|172.67.9.4|:443... connected.\r\n",
      "HTTP request sent, awaiting response... 200 OK\r\n",
      "Length: 75719050 (72M) [application/zip]\r\n",
      "Saving to: ‘MLQA_V1.zip’\r\n",
      "\r\n",
      "MLQA_V1.zip         100%[===================>]  72.21M  80.7MB/s    in 0.9s    \r\n",
      "\r\n",
      "2021-11-28 10:51:59 (80.7 MB/s) - ‘MLQA_V1.zip’ saved [75719050/75719050]\r\n",
      "\r\n"
     ]
    }
   ],
   "source": [
    "!wget https://dl.fbaipublicfiles.com/MLQA/MLQA_V1.zip"
   ]
  },
  {
   "cell_type": "code",
   "execution_count": 2,
   "id": "a1147469",
   "metadata": {
    "execution": {
     "iopub.execute_input": "2021-11-28T10:51:59.236396Z",
     "iopub.status.busy": "2021-11-28T10:51:59.235749Z",
     "iopub.status.idle": "2021-11-28T10:52:01.604017Z",
     "shell.execute_reply": "2021-11-28T10:52:01.603411Z",
     "shell.execute_reply.started": "2021-08-16T04:17:33.443675Z"
    },
    "papermill": {
     "duration": 2.390246,
     "end_time": "2021-11-28T10:52:01.604199",
     "exception": false,
     "start_time": "2021-11-28T10:51:59.213953",
     "status": "completed"
    },
    "tags": []
   },
   "outputs": [],
   "source": [
    "import zipfile\n",
    "with zipfile.ZipFile('/kaggle/working/MLQA_V1.zip') as zip_ref:\n",
    "    zip_ref.extractall('/kaggle/working/')"
   ]
  },
  {
   "cell_type": "code",
   "execution_count": 3,
   "id": "5a8ac6e5",
   "metadata": {
    "execution": {
     "iopub.execute_input": "2021-11-28T10:52:01.645637Z",
     "iopub.status.busy": "2021-11-28T10:52:01.644818Z",
     "iopub.status.idle": "2021-11-28T10:52:03.157909Z",
     "shell.execute_reply": "2021-11-28T10:52:03.157336Z",
     "shell.execute_reply.started": "2021-08-18T18:39:25.503805Z"
    },
    "papermill": {
     "duration": 1.535757,
     "end_time": "2021-11-28T10:52:03.158053",
     "exception": false,
     "start_time": "2021-11-28T10:52:01.622296",
     "status": "completed"
    },
    "tags": []
   },
   "outputs": [],
   "source": [
    "import os\n",
    "import sys\n",
    "import random\n",
    "import argparse\n",
    "import json\n",
    "import nltk\n",
    "import numpy as np\n",
    "import pandas as pd\n",
    "from tqdm import tqdm\n",
    "\n",
    "# sys.setdefaultencoding('utf8')\n",
    "random.seed(42)\n",
    "np.random.seed(42)"
   ]
  },
  {
   "cell_type": "code",
   "execution_count": 4,
   "id": "e4cd4ace",
   "metadata": {
    "execution": {
     "iopub.execute_input": "2021-11-28T10:52:03.200349Z",
     "iopub.status.busy": "2021-11-28T10:52:03.199225Z",
     "iopub.status.idle": "2021-11-28T10:52:03.758983Z",
     "shell.execute_reply": "2021-11-28T10:52:03.758411Z",
     "shell.execute_reply.started": "2021-08-16T04:32:42.512017Z"
    },
    "papermill": {
     "duration": 0.582888,
     "end_time": "2021-11-28T10:52:03.759131",
     "exception": false,
     "start_time": "2021-11-28T10:52:03.176243",
     "status": "completed"
    },
    "tags": []
   },
   "outputs": [],
   "source": [
    "mlqa_train_data = '/kaggle/working/MLQA_V1/dev/dev-context-hi-question-hi.json'\n",
    "mlqa_test_data = '/kaggle/working/MLQA_V1/test/test-context-hi-question-hi.json'\n",
    "\n",
    "with open(mlqa_train_data, 'r') as file_input:\n",
    "    train_file = json.load(file_input)\n",
    "    \n",
    "with open(mlqa_test_data, 'r') as file_input:\n",
    "    test_file = json.load(file_input)"
   ]
  },
  {
   "cell_type": "code",
   "execution_count": 5,
   "id": "f11110bb",
   "metadata": {
    "execution": {
     "iopub.execute_input": "2021-11-28T10:52:03.803981Z",
     "iopub.status.busy": "2021-11-28T10:52:03.803267Z",
     "iopub.status.idle": "2021-11-28T10:52:03.806860Z",
     "shell.execute_reply": "2021-11-28T10:52:03.806268Z",
     "shell.execute_reply.started": "2021-08-16T04:32:46.111526Z"
    },
    "papermill": {
     "duration": 0.030383,
     "end_time": "2021-11-28T10:52:03.806995",
     "exception": false,
     "start_time": "2021-11-28T10:52:03.776612",
     "status": "completed"
    },
    "tags": []
   },
   "outputs": [],
   "source": [
    "def preprocess(dataset, tier):\n",
    "    num_exs = 0 \n",
    "    examples = []\n",
    "\n",
    "    for articles_id in tqdm(range(len(dataset['data'])), desc=\"Preprocessing {}\".format(tier)):\n",
    "        article_paragraphs = dataset['data'][articles_id]['paragraphs']\n",
    "        for pid in range(len(article_paragraphs)):\n",
    "            context = article_paragraphs[pid]['context']\n",
    "            context = context.replace(\"''\", '\" ')\n",
    "            context = context.replace(\"``\", '\" ')\n",
    "            qas = article_paragraphs[pid]['qas'] \n",
    "            for qn in qas:\n",
    "                question = qn['question'] \n",
    "                ans_text = qn['answers'][0]['text']\n",
    "                ans_start_charloc = qn['answers'][0]['answer_start']\n",
    "                ans_end_charloc = ans_start_charloc + len(ans_text)\n",
    "                examples.append(\n",
    "                    {\n",
    "                        # 'id':articles_id,\n",
    "                        'context':context, \n",
    "                        'question':question, \n",
    "                        'answer_text':ans_text, \n",
    "                        'answer_start':ans_start_charloc, \n",
    "                        # 'answer_end':ans_end_charloc\n",
    "                    }\n",
    "                )\n",
    "\n",
    "                num_exs += 1\n",
    "    print(num_exs)    \n",
    "    return examples"
   ]
  },
  {
   "cell_type": "code",
   "execution_count": 6,
   "id": "3a722dd1",
   "metadata": {
    "execution": {
     "iopub.execute_input": "2021-11-28T10:52:03.848252Z",
     "iopub.status.busy": "2021-11-28T10:52:03.845674Z",
     "iopub.status.idle": "2021-11-28T10:52:03.880707Z",
     "shell.execute_reply": "2021-11-28T10:52:03.881277Z",
     "shell.execute_reply.started": "2021-08-16T04:32:47.247775Z"
    },
    "papermill": {
     "duration": 0.057103,
     "end_time": "2021-11-28T10:52:03.881458",
     "exception": false,
     "start_time": "2021-11-28T10:52:03.824355",
     "status": "completed"
    },
    "tags": []
   },
   "outputs": [
    {
     "name": "stderr",
     "output_type": "stream",
     "text": [
      "Preprocessing dev: 100%|██████████| 217/217 [00:00<00:00, 77342.28it/s]\n",
      "Preprocessing test: 100%|██████████| 2038/2038 [00:00<00:00, 101221.95it/s]"
     ]
    },
    {
     "name": "stdout",
     "output_type": "stream",
     "text": [
      "507\n",
      "4918\n"
     ]
    },
    {
     "name": "stderr",
     "output_type": "stream",
     "text": [
      "\n"
     ]
    }
   ],
   "source": [
    "examples_train = preprocess(train_file, 'dev')\n",
    "examples_test = preprocess(test_file, 'test')"
   ]
  },
  {
   "cell_type": "code",
   "execution_count": 7,
   "id": "a2df83f2",
   "metadata": {
    "execution": {
     "iopub.execute_input": "2021-11-28T10:52:03.923524Z",
     "iopub.status.busy": "2021-11-28T10:52:03.922876Z",
     "iopub.status.idle": "2021-11-28T10:52:03.947391Z",
     "shell.execute_reply": "2021-11-28T10:52:03.947931Z",
     "shell.execute_reply.started": "2021-08-16T04:32:50.644061Z"
    },
    "papermill": {
     "duration": 0.047108,
     "end_time": "2021-11-28T10:52:03.948115",
     "exception": false,
     "start_time": "2021-11-28T10:52:03.901007",
     "status": "completed"
    },
    "tags": []
   },
   "outputs": [],
   "source": [
    "examples = examples_train + examples_test\n",
    "mlqa = pd.DataFrame(examples)\n",
    "mlqa['language'] = 'hindi'"
   ]
  },
  {
   "cell_type": "markdown",
   "id": "01c1e172",
   "metadata": {
    "papermill": {
     "duration": 0.019032,
     "end_time": "2021-11-28T10:52:03.987386",
     "exception": false,
     "start_time": "2021-11-28T10:52:03.968354",
     "status": "completed"
    },
    "tags": []
   },
   "source": [
    "### XQUAD"
   ]
  },
  {
   "cell_type": "code",
   "execution_count": 8,
   "id": "944e40cf",
   "metadata": {
    "execution": {
     "iopub.execute_input": "2021-11-28T10:52:04.029577Z",
     "iopub.status.busy": "2021-11-28T10:52:04.028888Z",
     "iopub.status.idle": "2021-11-28T10:52:07.158396Z",
     "shell.execute_reply": "2021-11-28T10:52:07.157632Z",
     "shell.execute_reply.started": "2021-08-16T04:35:19.300121Z"
    },
    "papermill": {
     "duration": 3.151965,
     "end_time": "2021-11-28T10:52:07.158576",
     "exception": false,
     "start_time": "2021-11-28T10:52:04.006611",
     "status": "completed"
    },
    "tags": []
   },
   "outputs": [
    {
     "name": "stdout",
     "output_type": "stream",
     "text": [
      "Cloning into 'xquad'...\r\n",
      "remote: Enumerating objects: 44, done.\u001b[K\r\n",
      "remote: Counting objects: 100% (44/44), done.\u001b[K\r\n",
      "remote: Compressing objects: 100% (40/40), done.\u001b[K\r\n",
      "remote: Total 44 (delta 16), reused 8 (delta 3), pack-reused 0\u001b[K\r\n",
      "Unpacking objects: 100% (44/44), done.\r\n"
     ]
    }
   ],
   "source": [
    "!git clone https://github.com/deepmind/xquad.git"
   ]
  },
  {
   "cell_type": "code",
   "execution_count": 9,
   "id": "80b17aab",
   "metadata": {
    "execution": {
     "iopub.execute_input": "2021-11-28T10:52:07.216350Z",
     "iopub.status.busy": "2021-11-28T10:52:07.215536Z",
     "iopub.status.idle": "2021-11-28T10:52:07.267665Z",
     "shell.execute_reply": "2021-11-28T10:52:07.266962Z",
     "shell.execute_reply.started": "2021-08-16T04:35:23.065826Z"
    },
    "papermill": {
     "duration": 0.083203,
     "end_time": "2021-11-28T10:52:07.267849",
     "exception": false,
     "start_time": "2021-11-28T10:52:07.184646",
     "status": "completed"
    },
    "tags": []
   },
   "outputs": [
    {
     "name": "stderr",
     "output_type": "stream",
     "text": [
      "Preprocessing dev: 100%|██████████| 48/48 [00:00<00:00, 22759.05it/s]"
     ]
    },
    {
     "name": "stdout",
     "output_type": "stream",
     "text": [
      "1190\n"
     ]
    },
    {
     "name": "stderr",
     "output_type": "stream",
     "text": [
      "\n"
     ]
    }
   ],
   "source": [
    "xquad_train_file = '/kaggle/working/xquad/xquad.hi.json'\n",
    "\n",
    "with open(xquad_train_file, 'r') as file_input:\n",
    "    train_file = json.load(file_input)\n",
    "    \n",
    "examples_train = preprocess(train_file, 'dev')\n",
    "xquad = pd.DataFrame(examples_train)\n",
    "xquad['language'] = 'hindi'"
   ]
  },
  {
   "cell_type": "markdown",
   "id": "a5e8e182",
   "metadata": {
    "papermill": {
     "duration": 0.027022,
     "end_time": "2021-11-28T10:52:07.322342",
     "exception": false,
     "start_time": "2021-11-28T10:52:07.295320",
     "status": "completed"
    },
    "tags": []
   },
   "source": [
    "### Remove downloaded files"
   ]
  },
  {
   "cell_type": "code",
   "execution_count": 10,
   "id": "e60b8ee3",
   "metadata": {
    "execution": {
     "iopub.execute_input": "2021-11-28T10:52:07.379718Z",
     "iopub.status.busy": "2021-11-28T10:52:07.378793Z",
     "iopub.status.idle": "2021-11-28T10:52:07.460624Z",
     "shell.execute_reply": "2021-11-28T10:52:07.461137Z",
     "shell.execute_reply.started": "2021-08-16T04:37:14.29404Z"
    },
    "papermill": {
     "duration": 0.112143,
     "end_time": "2021-11-28T10:52:07.461367",
     "exception": false,
     "start_time": "2021-11-28T10:52:07.349224",
     "status": "completed"
    },
    "tags": []
   },
   "outputs": [],
   "source": [
    "import os, shutil\n",
    "folder = '/kaggle/working/'\n",
    "for filename in os.listdir(folder):\n",
    "    file_path = os.path.join(folder, filename)\n",
    "    try:\n",
    "        if os.path.isfile(file_path) or os.path.islink(file_path):\n",
    "            os.unlink(file_path)\n",
    "        elif os.path.isdir(file_path):\n",
    "            shutil.rmtree(file_path)\n",
    "    except Exception as e:\n",
    "        print('Failed to delete %s. Reason: %s' % (file_path, e))"
   ]
  },
  {
   "cell_type": "markdown",
   "id": "ff38b33a",
   "metadata": {
    "papermill": {
     "duration": 0.026398,
     "end_time": "2021-11-28T10:52:07.515084",
     "exception": false,
     "start_time": "2021-11-28T10:52:07.488686",
     "status": "completed"
    },
    "tags": []
   },
   "source": [
    "### Save Data"
   ]
  },
  {
   "cell_type": "code",
   "execution_count": 11,
   "id": "651d2a5a",
   "metadata": {
    "execution": {
     "iopub.execute_input": "2021-11-28T10:52:07.572424Z",
     "iopub.status.busy": "2021-11-28T10:52:07.571475Z",
     "iopub.status.idle": "2021-11-28T10:52:07.912225Z",
     "shell.execute_reply": "2021-11-28T10:52:07.911630Z",
     "shell.execute_reply.started": "2021-08-16T04:37:50.484878Z"
    },
    "papermill": {
     "duration": 0.37043,
     "end_time": "2021-11-28T10:52:07.912368",
     "exception": false,
     "start_time": "2021-11-28T10:52:07.541938",
     "status": "completed"
    },
    "tags": []
   },
   "outputs": [],
   "source": [
    "mlqa.to_csv('mlqa_hindi.csv', index=False)\n",
    "xquad.to_csv('xquad.csv', index=False)"
   ]
  },
  {
   "cell_type": "code",
   "execution_count": 12,
   "id": "b7288a99",
   "metadata": {
    "execution": {
     "iopub.execute_input": "2021-11-28T10:52:07.973720Z",
     "iopub.status.busy": "2021-11-28T10:52:07.973037Z",
     "iopub.status.idle": "2021-11-28T10:52:07.991706Z",
     "shell.execute_reply": "2021-11-28T10:52:07.992147Z",
     "shell.execute_reply.started": "2021-08-16T04:38:24.27021Z"
    },
    "papermill": {
     "duration": 0.052973,
     "end_time": "2021-11-28T10:52:07.992330",
     "exception": false,
     "start_time": "2021-11-28T10:52:07.939357",
     "status": "completed"
    },
    "tags": []
   },
   "outputs": [
    {
     "data": {
      "text/html": [
       "<div>\n",
       "<style scoped>\n",
       "    .dataframe tbody tr th:only-of-type {\n",
       "        vertical-align: middle;\n",
       "    }\n",
       "\n",
       "    .dataframe tbody tr th {\n",
       "        vertical-align: top;\n",
       "    }\n",
       "\n",
       "    .dataframe thead th {\n",
       "        text-align: right;\n",
       "    }\n",
       "</style>\n",
       "<table border=\"1\" class=\"dataframe\">\n",
       "  <thead>\n",
       "    <tr style=\"text-align: right;\">\n",
       "      <th></th>\n",
       "      <th>context</th>\n",
       "      <th>question</th>\n",
       "      <th>answer_text</th>\n",
       "      <th>answer_start</th>\n",
       "      <th>language</th>\n",
       "    </tr>\n",
       "  </thead>\n",
       "  <tbody>\n",
       "    <tr>\n",
       "      <th>0</th>\n",
       "      <td>पैंथर्स की डिफ़ेन्स ने लीग में केवल 308 अंक दिए...</td>\n",
       "      <td>पैंथर्स डिफ़ेंस ने कितने अंक दिए?</td>\n",
       "      <td>308</td>\n",
       "      <td>35</td>\n",
       "      <td>hindi</td>\n",
       "    </tr>\n",
       "    <tr>\n",
       "      <th>1</th>\n",
       "      <td>पैंथर्स की डिफ़ेन्स ने लीग में केवल 308 अंक दिए...</td>\n",
       "      <td>जेरेड एलन के पास कितने करियर सैक थे?</td>\n",
       "      <td>136</td>\n",
       "      <td>380</td>\n",
       "      <td>hindi</td>\n",
       "    </tr>\n",
       "    <tr>\n",
       "      <th>2</th>\n",
       "      <td>पैंथर्स की डिफ़ेन्स ने लीग में केवल 308 अंक दिए...</td>\n",
       "      <td>ल्यूक कुएक्ली ने कितने टैकल रजिस्टर किए?</td>\n",
       "      <td>118</td>\n",
       "      <td>743</td>\n",
       "      <td>hindi</td>\n",
       "    </tr>\n",
       "    <tr>\n",
       "      <th>3</th>\n",
       "      <td>पैंथर्स की डिफ़ेन्स ने लीग में केवल 308 अंक दिए...</td>\n",
       "      <td>जोश नॉर्मन ने कितने बॉल को इंटरसेप्ट किया?</td>\n",
       "      <td>चार</td>\n",
       "      <td>90</td>\n",
       "      <td>hindi</td>\n",
       "    </tr>\n",
       "    <tr>\n",
       "      <th>4</th>\n",
       "      <td>पैंथर्स की डिफ़ेन्स ने लीग में केवल 308 अंक दिए...</td>\n",
       "      <td>इस सीज़न में टीम से किसने सबसे अधिक सैक रजिस्टर...</td>\n",
       "      <td>कावन शॉर्ट</td>\n",
       "      <td>169</td>\n",
       "      <td>hindi</td>\n",
       "    </tr>\n",
       "  </tbody>\n",
       "</table>\n",
       "</div>"
      ],
      "text/plain": [
       "                                             context  \\\n",
       "0  पैंथर्स की डिफ़ेन्स ने लीग में केवल 308 अंक दिए...   \n",
       "1  पैंथर्स की डिफ़ेन्स ने लीग में केवल 308 अंक दिए...   \n",
       "2  पैंथर्स की डिफ़ेन्स ने लीग में केवल 308 अंक दिए...   \n",
       "3  पैंथर्स की डिफ़ेन्स ने लीग में केवल 308 अंक दिए...   \n",
       "4  पैंथर्स की डिफ़ेन्स ने लीग में केवल 308 अंक दिए...   \n",
       "\n",
       "                                            question answer_text  \\\n",
       "0                   पैंथर्स डिफ़ेंस ने कितने अंक दिए?         308   \n",
       "1               जेरेड एलन के पास कितने करियर सैक थे?         136   \n",
       "2           ल्यूक कुएक्ली ने कितने टैकल रजिस्टर किए?         118   \n",
       "3         जोश नॉर्मन ने कितने बॉल को इंटरसेप्ट किया?         चार   \n",
       "4  इस सीज़न में टीम से किसने सबसे अधिक सैक रजिस्टर...  कावन शॉर्ट   \n",
       "\n",
       "   answer_start language  \n",
       "0            35    hindi  \n",
       "1           380    hindi  \n",
       "2           743    hindi  \n",
       "3            90    hindi  \n",
       "4           169    hindi  "
      ]
     },
     "execution_count": 12,
     "metadata": {},
     "output_type": "execute_result"
    }
   ],
   "source": [
    "xquad.head(5)"
   ]
  },
  {
   "cell_type": "code",
   "execution_count": 13,
   "id": "091cac4f",
   "metadata": {
    "execution": {
     "iopub.execute_input": "2021-11-28T10:52:08.051099Z",
     "iopub.status.busy": "2021-11-28T10:52:08.050138Z",
     "iopub.status.idle": "2021-11-28T10:52:08.062992Z",
     "shell.execute_reply": "2021-11-28T10:52:08.062333Z",
     "shell.execute_reply.started": "2021-08-16T04:38:17.764713Z"
    },
    "papermill": {
     "duration": 0.042982,
     "end_time": "2021-11-28T10:52:08.063129",
     "exception": false,
     "start_time": "2021-11-28T10:52:08.020147",
     "status": "completed"
    },
    "tags": []
   },
   "outputs": [
    {
     "data": {
      "text/html": [
       "<div>\n",
       "<style scoped>\n",
       "    .dataframe tbody tr th:only-of-type {\n",
       "        vertical-align: middle;\n",
       "    }\n",
       "\n",
       "    .dataframe tbody tr th {\n",
       "        vertical-align: top;\n",
       "    }\n",
       "\n",
       "    .dataframe thead th {\n",
       "        text-align: right;\n",
       "    }\n",
       "</style>\n",
       "<table border=\"1\" class=\"dataframe\">\n",
       "  <thead>\n",
       "    <tr style=\"text-align: right;\">\n",
       "      <th></th>\n",
       "      <th>context</th>\n",
       "      <th>question</th>\n",
       "      <th>answer_text</th>\n",
       "      <th>answer_start</th>\n",
       "      <th>language</th>\n",
       "    </tr>\n",
       "  </thead>\n",
       "  <tbody>\n",
       "    <tr>\n",
       "      <th>0</th>\n",
       "      <td>पैरेनकाइमा कोशिकाएं वे जीवित कोशिकाएं हैं जो स...</td>\n",
       "      <td>एक प्रकार की रस्सी का नाम बताईए जो सेलेरी के क...</td>\n",
       "      <td>कोलेन्काइमा</td>\n",
       "      <td>2267</td>\n",
       "      <td>hindi</td>\n",
       "    </tr>\n",
       "    <tr>\n",
       "      <th>1</th>\n",
       "      <td>पैरेनकाइमा कोशिकाएं वे जीवित कोशिकाएं हैं जो स...</td>\n",
       "      <td>क्या चीज पूरी तरह से पैरेनकाइमा कोशिकाओं से बन...</td>\n",
       "      <td>पत्तियां</td>\n",
       "      <td>158</td>\n",
       "      <td>hindi</td>\n",
       "    </tr>\n",
       "    <tr>\n",
       "      <th>2</th>\n",
       "      <td>जाइलेम कोशिकाएं कोशिका भित्तियों की लिग्निकृत ...</td>\n",
       "      <td>जाइलेम किस प्रकार के पौधों में पाया जाता है?</td>\n",
       "      <td>ट्रेकियोफाइटों</td>\n",
       "      <td>292</td>\n",
       "      <td>hindi</td>\n",
       "    </tr>\n",
       "    <tr>\n",
       "      <th>3</th>\n",
       "      <td>फ्लोएम उच्चतर पौधों में आहार का संवहन करने वाल...</td>\n",
       "      <td>लेप्टोम क्या है?\\n</td>\n",
       "      <td>समान कार्य करने वाला एक अधिक सरल ऊतक</td>\n",
       "      <td>969</td>\n",
       "      <td>hindi</td>\n",
       "    </tr>\n",
       "    <tr>\n",
       "      <th>4</th>\n",
       "      <td>सभी हवाई अवयवों की बाह्यत्वचा, जड़ों को छोड़कर...</td>\n",
       "      <td>बाह्यत्वचा की कोशिकाएं क्या कर सकती हैं?</td>\n",
       "      <td>क्यटिन का संश्लेषण</td>\n",
       "      <td>433</td>\n",
       "      <td>hindi</td>\n",
       "    </tr>\n",
       "  </tbody>\n",
       "</table>\n",
       "</div>"
      ],
      "text/plain": [
       "                                             context  \\\n",
       "0  पैरेनकाइमा कोशिकाएं वे जीवित कोशिकाएं हैं जो स...   \n",
       "1  पैरेनकाइमा कोशिकाएं वे जीवित कोशिकाएं हैं जो स...   \n",
       "2  जाइलेम कोशिकाएं कोशिका भित्तियों की लिग्निकृत ...   \n",
       "3  फ्लोएम उच्चतर पौधों में आहार का संवहन करने वाल...   \n",
       "4  सभी हवाई अवयवों की बाह्यत्वचा, जड़ों को छोड़कर...   \n",
       "\n",
       "                                            question  \\\n",
       "0  एक प्रकार की रस्सी का नाम बताईए जो सेलेरी के क...   \n",
       "1  क्या चीज पूरी तरह से पैरेनकाइमा कोशिकाओं से बन...   \n",
       "2       जाइलेम किस प्रकार के पौधों में पाया जाता है?   \n",
       "3                                 लेप्टोम क्या है?\\n   \n",
       "4           बाह्यत्वचा की कोशिकाएं क्या कर सकती हैं?   \n",
       "\n",
       "                            answer_text  answer_start language  \n",
       "0                           कोलेन्काइमा          2267    hindi  \n",
       "1                              पत्तियां           158    hindi  \n",
       "2                        ट्रेकियोफाइटों           292    hindi  \n",
       "3  समान कार्य करने वाला एक अधिक सरल ऊतक           969    hindi  \n",
       "4                    क्यटिन का संश्लेषण           433    hindi  "
      ]
     },
     "execution_count": 13,
     "metadata": {},
     "output_type": "execute_result"
    }
   ],
   "source": [
    "mlqa.head(5)"
   ]
  },
  {
   "cell_type": "code",
   "execution_count": null,
   "id": "cb4bed64",
   "metadata": {
    "papermill": {
     "duration": 0.028946,
     "end_time": "2021-11-28T10:52:08.120810",
     "exception": false,
     "start_time": "2021-11-28T10:52:08.091864",
     "status": "completed"
    },
    "tags": []
   },
   "outputs": [],
   "source": []
  }
 ],
 "metadata": {
  "kernelspec": {
   "display_name": "Python 3",
   "language": "python",
   "name": "python3"
  },
  "language_info": {
   "codemirror_mode": {
    "name": "ipython",
    "version": 3
   },
   "file_extension": ".py",
   "mimetype": "text/x-python",
   "name": "python",
   "nbconvert_exporter": "python",
   "pygments_lexer": "ipython3",
   "version": "3.7.10"
  },
  "papermill": {
   "default_parameters": {},
   "duration": 20.804205,
   "end_time": "2021-11-28T10:52:09.844651",
   "environment_variables": {},
   "exception": null,
   "input_path": "__notebook__.ipynb",
   "output_path": "__notebook__.ipynb",
   "parameters": {},
   "start_time": "2021-11-28T10:51:49.040446",
   "version": "2.3.3"
  }
 },
 "nbformat": 4,
 "nbformat_minor": 5
}
